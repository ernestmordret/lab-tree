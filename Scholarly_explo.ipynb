{
 "cells": [
  {
   "cell_type": "code",
   "execution_count": 8,
   "id": "5e21d25a",
   "metadata": {},
   "outputs": [],
   "source": [
    "from data_tools import *\n",
    "import pickle"
   ]
  },
  {
   "cell_type": "code",
   "execution_count": 10,
   "id": "01cbba5f",
   "metadata": {},
   "outputs": [],
   "source": [
    "name = 'Naama Barkai'\n",
    "search_query = scholarly.search_author(name)\n",
    "first_author_result = next(search_query)"
   ]
  },
  {
   "cell_type": "code",
   "execution_count": 15,
   "id": "20f89163",
   "metadata": {},
   "outputs": [],
   "source": [
    "author = scholarly.fill(first_author_result)"
   ]
  },
  {
   "cell_type": "code",
   "execution_count": 18,
   "id": "ac5ea71f",
   "metadata": {
    "scrolled": true
   },
   "outputs": [],
   "source": [
    "author['pub_generator'] = (i for i in author['publications'])"
   ]
  },
  {
   "cell_type": "code",
   "execution_count": 24,
   "id": "379d5672",
   "metadata": {},
   "outputs": [],
   "source": [
    "x = next(author['pub_generator'])"
   ]
  },
  {
   "cell_type": "code",
   "execution_count": 27,
   "id": "2a084d70",
   "metadata": {},
   "outputs": [],
   "source": [
    "filled_pub = scholarly.fill(x)"
   ]
  },
  {
   "cell_type": "code",
   "execution_count": 30,
   "id": "417d7255",
   "metadata": {},
   "outputs": [],
   "source": [
    "gen = (i for i in range(3))"
   ]
  },
  {
   "cell_type": "code",
   "execution_count": 16,
   "id": "0a4c83c0",
   "metadata": {
    "scrolled": true
   },
   "outputs": [],
   "source": [
    "gen = author.fetch_publications()"
   ]
  },
  {
   "cell_type": "code",
   "execution_count": 41,
   "id": "6ee7f6a7",
   "metadata": {},
   "outputs": [],
   "source": [
    "import json"
   ]
  },
  {
   "cell_type": "code",
   "execution_count": 43,
   "id": "0396f19c",
   "metadata": {},
   "outputs": [
    {
     "ename": "TypeError",
     "evalue": "Object of type generator is not JSON serializable",
     "output_type": "error",
     "traceback": [
      "\u001b[0;31m---------------------------------------------------------------------------\u001b[0m",
      "\u001b[0;31mTypeError\u001b[0m                                 Traceback (most recent call last)",
      "Input \u001b[0;32mIn [43]\u001b[0m, in \u001b[0;36m<cell line: 1>\u001b[0;34m()\u001b[0m\n\u001b[0;32m----> 1\u001b[0m \u001b[43mjson\u001b[49m\u001b[38;5;241;43m.\u001b[39;49m\u001b[43mdumps\u001b[49m\u001b[43m(\u001b[49m\u001b[43mauthor\u001b[49m\u001b[43m)\u001b[49m\n",
      "File \u001b[0;32m~/opt/anaconda3/envs/labtree/lib/python3.10/json/__init__.py:231\u001b[0m, in \u001b[0;36mdumps\u001b[0;34m(obj, skipkeys, ensure_ascii, check_circular, allow_nan, cls, indent, separators, default, sort_keys, **kw)\u001b[0m\n\u001b[1;32m    226\u001b[0m \u001b[38;5;66;03m# cached encoder\u001b[39;00m\n\u001b[1;32m    227\u001b[0m \u001b[38;5;28;01mif\u001b[39;00m (\u001b[38;5;129;01mnot\u001b[39;00m skipkeys \u001b[38;5;129;01mand\u001b[39;00m ensure_ascii \u001b[38;5;129;01mand\u001b[39;00m\n\u001b[1;32m    228\u001b[0m     check_circular \u001b[38;5;129;01mand\u001b[39;00m allow_nan \u001b[38;5;129;01mand\u001b[39;00m\n\u001b[1;32m    229\u001b[0m     \u001b[38;5;28mcls\u001b[39m \u001b[38;5;129;01mis\u001b[39;00m \u001b[38;5;28;01mNone\u001b[39;00m \u001b[38;5;129;01mand\u001b[39;00m indent \u001b[38;5;129;01mis\u001b[39;00m \u001b[38;5;28;01mNone\u001b[39;00m \u001b[38;5;129;01mand\u001b[39;00m separators \u001b[38;5;129;01mis\u001b[39;00m \u001b[38;5;28;01mNone\u001b[39;00m \u001b[38;5;129;01mand\u001b[39;00m\n\u001b[1;32m    230\u001b[0m     default \u001b[38;5;129;01mis\u001b[39;00m \u001b[38;5;28;01mNone\u001b[39;00m \u001b[38;5;129;01mand\u001b[39;00m \u001b[38;5;129;01mnot\u001b[39;00m sort_keys \u001b[38;5;129;01mand\u001b[39;00m \u001b[38;5;129;01mnot\u001b[39;00m kw):\n\u001b[0;32m--> 231\u001b[0m     \u001b[38;5;28;01mreturn\u001b[39;00m \u001b[43m_default_encoder\u001b[49m\u001b[38;5;241;43m.\u001b[39;49m\u001b[43mencode\u001b[49m\u001b[43m(\u001b[49m\u001b[43mobj\u001b[49m\u001b[43m)\u001b[49m\n\u001b[1;32m    232\u001b[0m \u001b[38;5;28;01mif\u001b[39;00m \u001b[38;5;28mcls\u001b[39m \u001b[38;5;129;01mis\u001b[39;00m \u001b[38;5;28;01mNone\u001b[39;00m:\n\u001b[1;32m    233\u001b[0m     \u001b[38;5;28mcls\u001b[39m \u001b[38;5;241m=\u001b[39m JSONEncoder\n",
      "File \u001b[0;32m~/opt/anaconda3/envs/labtree/lib/python3.10/json/encoder.py:199\u001b[0m, in \u001b[0;36mJSONEncoder.encode\u001b[0;34m(self, o)\u001b[0m\n\u001b[1;32m    195\u001b[0m         \u001b[38;5;28;01mreturn\u001b[39;00m encode_basestring(o)\n\u001b[1;32m    196\u001b[0m \u001b[38;5;66;03m# This doesn't pass the iterator directly to ''.join() because the\u001b[39;00m\n\u001b[1;32m    197\u001b[0m \u001b[38;5;66;03m# exceptions aren't as detailed.  The list call should be roughly\u001b[39;00m\n\u001b[1;32m    198\u001b[0m \u001b[38;5;66;03m# equivalent to the PySequence_Fast that ''.join() would do.\u001b[39;00m\n\u001b[0;32m--> 199\u001b[0m chunks \u001b[38;5;241m=\u001b[39m \u001b[38;5;28;43mself\u001b[39;49m\u001b[38;5;241;43m.\u001b[39;49m\u001b[43miterencode\u001b[49m\u001b[43m(\u001b[49m\u001b[43mo\u001b[49m\u001b[43m,\u001b[49m\u001b[43m \u001b[49m\u001b[43m_one_shot\u001b[49m\u001b[38;5;241;43m=\u001b[39;49m\u001b[38;5;28;43;01mTrue\u001b[39;49;00m\u001b[43m)\u001b[49m\n\u001b[1;32m    200\u001b[0m \u001b[38;5;28;01mif\u001b[39;00m \u001b[38;5;129;01mnot\u001b[39;00m \u001b[38;5;28misinstance\u001b[39m(chunks, (\u001b[38;5;28mlist\u001b[39m, \u001b[38;5;28mtuple\u001b[39m)):\n\u001b[1;32m    201\u001b[0m     chunks \u001b[38;5;241m=\u001b[39m \u001b[38;5;28mlist\u001b[39m(chunks)\n",
      "File \u001b[0;32m~/opt/anaconda3/envs/labtree/lib/python3.10/json/encoder.py:257\u001b[0m, in \u001b[0;36mJSONEncoder.iterencode\u001b[0;34m(self, o, _one_shot)\u001b[0m\n\u001b[1;32m    252\u001b[0m \u001b[38;5;28;01melse\u001b[39;00m:\n\u001b[1;32m    253\u001b[0m     _iterencode \u001b[38;5;241m=\u001b[39m _make_iterencode(\n\u001b[1;32m    254\u001b[0m         markers, \u001b[38;5;28mself\u001b[39m\u001b[38;5;241m.\u001b[39mdefault, _encoder, \u001b[38;5;28mself\u001b[39m\u001b[38;5;241m.\u001b[39mindent, floatstr,\n\u001b[1;32m    255\u001b[0m         \u001b[38;5;28mself\u001b[39m\u001b[38;5;241m.\u001b[39mkey_separator, \u001b[38;5;28mself\u001b[39m\u001b[38;5;241m.\u001b[39mitem_separator, \u001b[38;5;28mself\u001b[39m\u001b[38;5;241m.\u001b[39msort_keys,\n\u001b[1;32m    256\u001b[0m         \u001b[38;5;28mself\u001b[39m\u001b[38;5;241m.\u001b[39mskipkeys, _one_shot)\n\u001b[0;32m--> 257\u001b[0m \u001b[38;5;28;01mreturn\u001b[39;00m \u001b[43m_iterencode\u001b[49m\u001b[43m(\u001b[49m\u001b[43mo\u001b[49m\u001b[43m,\u001b[49m\u001b[43m \u001b[49m\u001b[38;5;241;43m0\u001b[39;49m\u001b[43m)\u001b[49m\n",
      "File \u001b[0;32m~/opt/anaconda3/envs/labtree/lib/python3.10/json/encoder.py:179\u001b[0m, in \u001b[0;36mJSONEncoder.default\u001b[0;34m(self, o)\u001b[0m\n\u001b[1;32m    160\u001b[0m \u001b[38;5;28;01mdef\u001b[39;00m \u001b[38;5;21mdefault\u001b[39m(\u001b[38;5;28mself\u001b[39m, o):\n\u001b[1;32m    161\u001b[0m     \u001b[38;5;124;03m\"\"\"Implement this method in a subclass such that it returns\u001b[39;00m\n\u001b[1;32m    162\u001b[0m \u001b[38;5;124;03m    a serializable object for ``o``, or calls the base implementation\u001b[39;00m\n\u001b[1;32m    163\u001b[0m \u001b[38;5;124;03m    (to raise a ``TypeError``).\u001b[39;00m\n\u001b[0;32m   (...)\u001b[0m\n\u001b[1;32m    177\u001b[0m \n\u001b[1;32m    178\u001b[0m \u001b[38;5;124;03m    \"\"\"\u001b[39;00m\n\u001b[0;32m--> 179\u001b[0m     \u001b[38;5;28;01mraise\u001b[39;00m \u001b[38;5;167;01mTypeError\u001b[39;00m(\u001b[38;5;124mf\u001b[39m\u001b[38;5;124m'\u001b[39m\u001b[38;5;124mObject of type \u001b[39m\u001b[38;5;132;01m{\u001b[39;00mo\u001b[38;5;241m.\u001b[39m\u001b[38;5;18m__class__\u001b[39m\u001b[38;5;241m.\u001b[39m\u001b[38;5;18m__name__\u001b[39m\u001b[38;5;132;01m}\u001b[39;00m\u001b[38;5;124m \u001b[39m\u001b[38;5;124m'\u001b[39m\n\u001b[1;32m    180\u001b[0m                     \u001b[38;5;124mf\u001b[39m\u001b[38;5;124m'\u001b[39m\u001b[38;5;124mis not JSON serializable\u001b[39m\u001b[38;5;124m'\u001b[39m)\n",
      "\u001b[0;31mTypeError\u001b[0m: Object of type generator is not JSON serializable"
     ]
    }
   ],
   "source": [
    "json.dumps(author)"
   ]
  },
  {
   "cell_type": "code",
   "execution_count": 7,
   "id": "24c7d1d4",
   "metadata": {},
   "outputs": [],
   "source": [
    "def PowTwoGen(max=0):\n",
    "    n = 0\n",
    "    while n < max:\n",
    "        yield 2 ** n\n",
    "        n += 1\n"
   ]
  },
  {
   "cell_type": "code",
   "execution_count": 46,
   "id": "9ca012e2",
   "metadata": {},
   "outputs": [
    {
     "data": {
      "text/plain": [
       "0"
      ]
     },
     "execution_count": 46,
     "metadata": {},
     "output_type": "execute_result"
    }
   ],
   "source": [
    "[0,0,0].index(False)"
   ]
  },
  {
   "cell_type": "code",
   "execution_count": 15,
   "id": "3d445602",
   "metadata": {},
   "outputs": [
    {
     "data": {
      "text/plain": [
       "8"
      ]
     },
     "execution_count": 15,
     "metadata": {},
     "output_type": "execute_result"
    }
   ],
   "source": [
    "next(i)"
   ]
  },
  {
   "cell_type": "code",
   "execution_count": 11,
   "id": "c60c72d1",
   "metadata": {},
   "outputs": [],
   "source": [
    "import os\n",
    "\n",
    "try:\n",
    "    os.mkdir('pickles')\n",
    "except FileExistsError:\n",
    "    pass\n",
    "with open('pickles/naama.p', 'wb') as f:\n",
    "    pickle.dump(naama, f)"
   ]
  },
  {
   "cell_type": "code",
   "execution_count": 12,
   "id": "ca5092c2",
   "metadata": {},
   "outputs": [],
   "source": [
    "with open('pickles/naama.p', 'rb') as f:\n",
    "    x = pickle.load(f)\n"
   ]
  },
  {
   "cell_type": "code",
   "execution_count": 23,
   "id": "3dbfcd5a",
   "metadata": {},
   "outputs": [],
   "source": [
    "x = [1,2,3]\n",
    "y = x.copy()"
   ]
  },
  {
   "cell_type": "code",
   "execution_count": 33,
   "id": "5db7544a",
   "metadata": {},
   "outputs": [
    {
     "ename": "TypeError",
     "evalue": "'int' object is not iterable",
     "output_type": "error",
     "traceback": [
      "\u001b[0;31m---------------------------------------------------------------------------\u001b[0m",
      "\u001b[0;31mTypeError\u001b[0m                                 Traceback (most recent call last)",
      "Input \u001b[0;32mIn [33]\u001b[0m, in \u001b[0;36m<cell line: 1>\u001b[0;34m()\u001b[0m\n\u001b[0;32m----> 1\u001b[0m y \u001b[38;5;241m=\u001b[39m \u001b[38;5;28;43mset\u001b[39;49m\u001b[43m(\u001b[49m\u001b[43mx\u001b[49m\u001b[43m)\u001b[49m\u001b[38;5;241;43m.\u001b[39;49m\u001b[43mupdate\u001b[49m\u001b[43m(\u001b[49m\u001b[38;5;241;43m2\u001b[39;49m\u001b[43m)\u001b[49m\n",
      "\u001b[0;31mTypeError\u001b[0m: 'int' object is not iterable"
     ]
    }
   ],
   "source": [
    "y = set(x).update(2)"
   ]
  },
  {
   "cell_type": "code",
   "execution_count": 32,
   "id": "b2a6619a",
   "metadata": {},
   "outputs": [
    {
     "data": {
      "text/plain": [
       "[1, 2, 3]"
      ]
     },
     "execution_count": 32,
     "metadata": {},
     "output_type": "execute_result"
    }
   ],
   "source": [
    "x"
   ]
  },
  {
   "cell_type": "code",
   "execution_count": 13,
   "id": "b88430a8",
   "metadata": {},
   "outputs": [],
   "source": [
    "pub = x.filled_publications[0]"
   ]
  },
  {
   "cell_type": "code",
   "execution_count": 14,
   "id": "0c5476fa",
   "metadata": {},
   "outputs": [],
   "source": [
    "import pandas as pd"
   ]
  },
  {
   "cell_type": "code",
   "execution_count": 17,
   "id": "0db2307f",
   "metadata": {},
   "outputs": [],
   "source": [
    "pd.DataFrame.from_records([i.to_dict() for i in x.filled_publications]).to_csv('pickles/Naama.tsv', sep='\\t', index=False)"
   ]
  },
  {
   "cell_type": "code",
   "execution_count": 34,
   "id": "5799f531",
   "metadata": {},
   "outputs": [],
   "source": [
    "df = pd.read_csv('pickles/Naama.tsv', sep='\\t')"
   ]
  },
  {
   "cell_type": "code",
   "execution_count": 45,
   "id": "f4a1814f",
   "metadata": {},
   "outputs": [
    {
     "data": {
      "text/plain": [
       "{'A Eldar',\n",
       " 'A Levy',\n",
       " 'A Murray',\n",
       " 'Aa Levy',\n",
       " 'Abraham Fainsod',\n",
       " 'Abraham Weizman',\n",
       " 'Adil Mardinoglu',\n",
       " 'Adina Weinberger',\n",
       " 'Alexander Loewer',\n",
       " 'Alice C Young',\n",
       " 'Amir Fadel',\n",
       " 'Amnon Koren',\n",
       " 'Andreas Doncic',\n",
       " 'Andreas Herrmann',\n",
       " 'Andrew Emili',\n",
       " 'Andrew Fire',\n",
       " 'Andrew G Clark',\n",
       " 'Andrew M Smith',\n",
       " 'Angela H Depace',\n",
       " 'Anna Kaplan',\n",
       " 'Annalisa M Vanhook',\n",
       " 'Anthony Gitter',\n",
       " 'Anton Valouev',\n",
       " 'Archana Shenoy',\n",
       " 'Arend Sidow',\n",
       " 'Ariel Gispan',\n",
       " 'Arkadi Shwartz',\n",
       " 'Arne Skerra',\n",
       " 'Arnold J Levine',\n",
       " 'Arren Bar-even',\n",
       " 'Arthur D Lander',\n",
       " 'Asaf Levy',\n",
       " 'Avi Leibovich',\n",
       " 'Avigdor Eldar',\n",
       " 'Avihu H Yona',\n",
       " 'Avishai Gavish',\n",
       " 'Aviv Regev',\n",
       " 'Avraham A Levy',\n",
       " 'Avraham Levy',\n",
       " 'B Franklin Pugh',\n",
       " 'Bastian Peter',\n",
       " 'Ben Scheres',\n",
       " 'Ben-zion Shilo',\n",
       " 'Benny Shilo',\n",
       " 'Ben‐zion Shilo',\n",
       " 'Bernhard Palsson',\n",
       " 'Beáta Tóth',\n",
       " 'Brian Berkowitz',\n",
       " 'Bruce Tidor',\n",
       " 'Bryan J Venters',\n",
       " 'Bryan-joseph San Luis',\n",
       " 'C Doe',\n",
       " 'C Geijer',\n",
       " 'Cathy Melamed-bessudo',\n",
       " 'Cecilia Geijer',\n",
       " 'Charles Boone',\n",
       " 'Chen Bibi',\n",
       " 'Chiara Francavilla',\n",
       " 'Chris Q Doe',\n",
       " 'Christiane Batz',\n",
       " 'Christoph D Schmid',\n",
       " 'Christopher H Chandler',\n",
       " 'Cizhong Jiang',\n",
       " 'Claudia Münch',\n",
       " 'Cole Trapnell',\n",
       " 'Corey Nislow',\n",
       " 'D Bar-zvi',\n",
       " 'D Ben-zvi',\n",
       " 'D Joseph-strauss',\n",
       " 'D Sprinzak',\n",
       " 'Da Notterman',\n",
       " 'Dalia Rosin',\n",
       " 'Dan S Tawfik',\n",
       " 'Dana Bar-zvi',\n",
       " 'Dana Bezalel',\n",
       " 'Daniel A Notterman',\n",
       " 'Daniel J Lewa',\n",
       " 'Daniel Mack',\n",
       " 'Daniel Pomp',\n",
       " 'Daniel Weiss',\n",
       " 'Daniela Bar-el',\n",
       " 'Danny Ben-zvi',\n",
       " 'Danny Ben‐zvi',\n",
       " 'Daphna Joseph-strauss',\n",
       " 'David Lerner',\n",
       " 'David Lifshitz Smit',\n",
       " 'Dekel Yahav Har-shai',\n",
       " 'Dena Leshkowitz',\n",
       " 'Diego Jaitin',\n",
       " 'Divya Krishna Kumar',\n",
       " 'Doron Rapaport',\n",
       " 'Drora Zenvirth',\n",
       " 'Edda Klipp',\n",
       " 'Eden Yifrach',\n",
       " 'Edward M De Robertis',\n",
       " 'Ehud Shapiro',\n",
       " 'Einat Zalckvar',\n",
       " 'Elik Chapnik',\n",
       " 'Elizabeth A Grice',\n",
       " 'Enas Katawi',\n",
       " 'Eran Hornstein',\n",
       " 'Eric Davidson',\n",
       " 'Eric L Van Nostrand',\n",
       " \"Erin O'shea\",\n",
       " 'Eshel Ben-jacob',\n",
       " 'Eshel Ben‐jacob',\n",
       " 'Evan E Eichler',\n",
       " 'Eyal D Schejter',\n",
       " 'Eyal Metzl-raz',\n",
       " 'Eyal Schejter',\n",
       " 'Eyal Shimoni',\n",
       " 'Eytan Ruppin',\n",
       " 'Farzaneh Khajouei',\n",
       " 'Felix Jonas',\n",
       " 'Felix Reinhard Helmut Jonas',\n",
       " 'Francois Baneyx',\n",
       " 'Frank Jülicher',\n",
       " 'Frederick R Cross',\n",
       " 'Fredrik Ponten',\n",
       " 'Frédéric M Coquelle',\n",
       " 'G Krieger',\n",
       " 'G Simchen',\n",
       " 'G Whitesides',\n",
       " 'Gabriel Musso',\n",
       " 'Gabriel Renaud',\n",
       " 'Galit Lahav',\n",
       " 'Gat Krieger',\n",
       " 'George Pyrowolakis',\n",
       " 'Ghil Jona',\n",
       " 'Gil Hornung',\n",
       " 'Gilad Yaakov',\n",
       " 'Gilgi Friedlander',\n",
       " 'Gina Costa',\n",
       " 'Giora Simchen',\n",
       " 'Gregor Eichele',\n",
       " 'Guri Giaever',\n",
       " 'Gustavo J Melen',\n",
       " 'Hadas Leibovich-kot',\n",
       " 'Hannah Schmidt‐glenewinkel',\n",
       " 'Hao Yuan Kueh',\n",
       " 'Hayato Yanagida',\n",
       " 'Heather Peckham',\n",
       " 'Heidi H Kong',\n",
       " 'Hila Sberro',\n",
       " 'Hilary Ashe',\n",
       " 'Hung-ji Tsai',\n",
       " 'I Tirosh',\n",
       " 'Ian Dworkin',\n",
       " 'Ido Amit',\n",
       " 'Ilya P Ioshikhes',\n",
       " 'Ilya Shmulevich',\n",
       " 'Ilya Soifer',\n",
       " 'Inbal Eizenberg-magar',\n",
       " 'Ines Hellmann',\n",
       " 'Inna Averbukh',\n",
       " 'Inês Gomes Castro',\n",
       " 'Irit Orr',\n",
       " 'Istvan Albert',\n",
       " 'Itai Yanai',\n",
       " 'Itay Tirosh',\n",
       " 'Itzhak Fouxon',\n",
       " 'J Ihmels',\n",
       " 'Jackson Liang',\n",
       " 'Jacob Rimer',\n",
       " 'Jadine Paw',\n",
       " 'Jan E Kammenga',\n",
       " 'Jan Ihmels',\n",
       " 'Jan Seebacher',\n",
       " 'Jay Shendure',\n",
       " 'Jayme M Johnson',\n",
       " 'Jean E Mcewen',\n",
       " 'Jean-louis Plouhinec',\n",
       " 'Jeffrey Ichikawa',\n",
       " 'Jeremy Stuart',\n",
       " 'Jesper V Olsen',\n",
       " 'Ji Qi',\n",
       " 'Joel A Malek',\n",
       " 'Johan Paulsson',\n",
       " 'Jonathan Packer',\n",
       " 'Joseph M Steinberger',\n",
       " 'Joseph Steinberger',\n",
       " 'Joshua M Brickman',\n",
       " 'José Mg Vilar',\n",
       " 'Joy T Boyer',\n",
       " 'Joyce Kim',\n",
       " 'Judith Berman',\n",
       " 'Julia A Segre',\n",
       " 'Jun S Song',\n",
       " 'Junyue Cao',\n",
       " 'Jérôme Bürgi',\n",
       " 'Jérôme Poli',\n",
       " 'Kahn Rhrissorrakrai',\n",
       " 'Kajetan Bentele',\n",
       " 'Karen Usdin',\n",
       " 'Karin Mittelman',\n",
       " 'Kathie Y Sun',\n",
       " 'Kathy Zeng',\n",
       " 'Katja Tummler',\n",
       " 'Kenji Shimada',\n",
       " 'Kevin J Verstrepen',\n",
       " 'Kevin Mckernan',\n",
       " 'Kevin Struhl',\n",
       " 'Kiran Challa',\n",
       " 'Kirsten Ten Tusscher',\n",
       " 'Koon Ho Wong',\n",
       " 'Kristin C Gunsalus',\n",
       " 'Kristina B Emdal',\n",
       " 'Kurt Gish',\n",
       " 'Kyle Tsui',\n",
       " 'L Basten Snoek',\n",
       " 'Lani F Wu',\n",
       " 'Laura S Burrack',\n",
       " 'Layla Drwesh',\n",
       " 'Leehee Weinberger',\n",
       " 'Lily S Cheung',\n",
       " 'Lin Chen',\n",
       " 'Lise Zakin',\n",
       " 'Lotte Teufel',\n",
       " \"Lucy Erin O'brien\",\n",
       " 'Lucy Shapiro',\n",
       " 'Lynn P Tomsho',\n",
       " 'M Francisco',\n",
       " 'M González–gaitán',\n",
       " 'M Kenan-eichler',\n",
       " 'M Piel',\n",
       " 'Manqin Huangfu',\n",
       " 'Marcos Nahmad',\n",
       " 'Maria L Turner',\n",
       " 'Marinella Gebbia',\n",
       " 'Mario De Bono',\n",
       " 'Mark Bradley',\n",
       " 'Mark D Rose',\n",
       " 'Mark Kaganovich',\n",
       " 'Mark Mcclellan',\n",
       " 'Maryam Gerami-nejad',\n",
       " 'Mathias Uhlen',\n",
       " 'Mati Mann',\n",
       " 'Matthias Wilmanns',\n",
       " 'Max Flöttmann',\n",
       " 'Maya Schuldiner',\n",
       " 'Meike Baumgart',\n",
       " 'Meng Jin',\n",
       " 'Merav Branski-arieli',\n",
       " 'Michael Assaf',\n",
       " 'Michael Costanzo',\n",
       " 'Michael Eisen',\n",
       " 'Michael G Surette',\n",
       " 'Michal Breker',\n",
       " 'Michal Chapal',\n",
       " 'Michal Haskel-ittah',\n",
       " 'Michal Sharon',\n",
       " 'Mike Tyers',\n",
       " 'Mira Rosenthal',\n",
       " 'Miri Carmi',\n",
       " 'Miriam Carmi',\n",
       " 'Miriam Eisenstein',\n",
       " 'Miriam Rodriguez',\n",
       " 'Moshe Kafri',\n",
       " 'Moshe Oren',\n",
       " 'N Barkai',\n",
       " 'N Rappaport',\n",
       " 'Naama Barkai',\n",
       " 'Nadejda Sigal',\n",
       " 'Narendra Maheshri',\n",
       " 'Nathalie Q Balaban',\n",
       " 'Ned S Wingreen',\n",
       " 'Nelly Frenkel',\n",
       " 'Neta Degani',\n",
       " 'Neta Rahimi',\n",
       " 'Nir Friedman',\n",
       " 'Noa Rappaport',\n",
       " 'Noam Kadouri',\n",
       " 'Noam Vardi',\n",
       " 'Nobuhiko Tokuriki',\n",
       " 'Noga Alon',\n",
       " 'Norbert Perrimon',\n",
       " 'Nurit Avraham',\n",
       " 'O Shaya',\n",
       " 'O Wartlick',\n",
       " 'Oded Sandler',\n",
       " 'Ofer Sarig',\n",
       " 'Offir Lupo',\n",
       " 'Omer Barad',\n",
       " 'Orly Reiner',\n",
       " 'P Reuven',\n",
       " 'Peter Li',\n",
       " 'R Bar-ziv',\n",
       " 'Ragna Sack',\n",
       " 'Rami Pugatch',\n",
       " 'Randall H Morse',\n",
       " 'Rasmus Nielsen',\n",
       " 'Raz Bar-ziv',\n",
       " 'Rebecca H Herbst',\n",
       " 'Rebecca Hannah Herbst',\n",
       " 'Rita S Monteiro',\n",
       " 'Robert Blelloch',\n",
       " 'Robert W Blakesley',\n",
       " 'Robert Waterston',\n",
       " 'Rom Shenhav',\n",
       " 'Romain Forey',\n",
       " 'Ronen Levy',\n",
       " 'Roye More',\n",
       " 'Ruedi Aebersold',\n",
       " 'Ruslan Dorfman',\n",
       " 'S Bergmann',\n",
       " 'S Hohmann',\n",
       " 'S Lai',\n",
       " 'S Leibler',\n",
       " 'S Reikhav',\n",
       " 'Sagi Levy',\n",
       " 'Sagie Brodsky',\n",
       " 'Sahand Jamal Rahi',\n",
       " 'Sara H Katsanis',\n",
       " 'Sara Shnider',\n",
       " 'Sarah G Leinwand',\n",
       " 'Satwik Rajaram',\n",
       " 'Saurabh Sinha',\n",
       " 'Scott A Kelly',\n",
       " 'Sefi Mintzer',\n",
       " 'Sen-lin Lai',\n",
       " 'Shalev Itzkovitz',\n",
       " 'Shani Ben‐moshe',\n",
       " 'Shari Carmon',\n",
       " 'Sharon Grayer Wolf',\n",
       " 'Sharon Reichav',\n",
       " 'Sharon Reikhav',\n",
       " 'Shay Shilo',\n",
       " 'Shay Winter',\n",
       " 'Shelly Rozen',\n",
       " 'Shmuel Einav',\n",
       " 'Shmuel Pietrokovski',\n",
       " 'Siddhartha Mishra',\n",
       " 'Sreekanth H Chalasani',\n",
       " 'Stan Leibler',\n",
       " 'Stanislas Leibler',\n",
       " 'Stanislav Y Shvartsman',\n",
       " 'Stefan Hohmann',\n",
       " 'Stefan Kirsch',\n",
       " 'Stephan C Schuster',\n",
       " 'Stephan Noack',\n",
       " 'Stephen Hewitt',\n",
       " 'Steven J Altschuler',\n",
       " 'Steven M Johnson',\n",
       " 'Stuart K Kim',\n",
       " 'Stuart Kim',\n",
       " 'Sudarshan Chari',\n",
       " 'Susan M Gasser',\n",
       " 'Suzanne Eaton',\n",
       " 'Suzanne Ybarra',\n",
       " 'Sven Bergmann',\n",
       " 'Swati Ranade',\n",
       " 'Sébastien Dubuis',\n",
       " 'T Kramps',\n",
       " 'Talia Levy',\n",
       " 'Tamar Gera',\n",
       " 'Tamar Jana',\n",
       " 'Tamar Polacheck',\n",
       " 'Tamar Sapir',\n",
       " 'Teresa E Knudsen',\n",
       " 'Thaisan Tonthat',\n",
       " 'Tomer Shlomi',\n",
       " 'Tommer Ravid',\n",
       " 'Travis N Mavrich',\n",
       " 'Trudi Schüpbach',\n",
       " 'Tsvi Tlusty',\n",
       " 'Tyra G Wolfsberg',\n",
       " 'U Alon',\n",
       " 'Uri Alon',\n",
       " 'Verena Hurst',\n",
       " 'Werner Schempp',\n",
       " 'William B Hamilton',\n",
       " 'William Silverman',\n",
       " 'X Jiang',\n",
       " 'X Shirley Liu',\n",
       " 'Xiangwei He',\n",
       " 'Xingkun Liu',\n",
       " 'Yael Assia',\n",
       " 'Yaniv Ziv',\n",
       " 'Yanniv Dorone',\n",
       " 'Yaron Mosesson',\n",
       " 'Yasmin Bloch',\n",
       " 'Yehuda Afek',\n",
       " 'Yehuda Brody',\n",
       " 'Yitzhak Pilpel',\n",
       " 'Yoav Peleg',\n",
       " 'Yoav Voichek',\n",
       " 'Yonat Gurvich',\n",
       " 'Yonatan Bilu',\n",
       " 'Yotam David',\n",
       " 'Yuan Mang',\n",
       " 'Yulia Gordon',\n",
       " 'Ze Cheng',\n",
       " 'Zeba Wunderlich',\n",
       " 'Zhaolei Zhang',\n",
       " 'Zhaoshi Jiang',\n",
       " 'Zhiping Gu',\n",
       " 'Ziv Bar-joseph',\n",
       " 'Zvi Tamari'}"
      ]
     },
     "execution_count": 45,
     "metadata": {},
     "output_type": "execute_result"
    }
   ],
   "source": [
    "\n",
    "set.union(*[set(eval(i)) for i in df['authors']])"
   ]
  },
  {
   "cell_type": "code",
   "execution_count": 42,
   "id": "7d320679",
   "metadata": {},
   "outputs": [
    {
     "data": {
      "text/plain": [
       "['Uri Alon',\n",
       " 'Naama Barkai',\n",
       " 'Daniel A Notterman',\n",
       " 'Kurt Gish',\n",
       " 'Suzanne Ybarra',\n",
       " 'Daniel Mack',\n",
       " 'Arnold J Levine']"
      ]
     },
     "execution_count": 42,
     "metadata": {},
     "output_type": "execute_result"
    }
   ],
   "source": [
    "eval(df['authors'][0])"
   ]
  },
  {
   "cell_type": "code",
   "execution_count": null,
   "id": "0f8a5853",
   "metadata": {},
   "outputs": [],
   "source": []
  }
 ],
 "metadata": {
  "kernelspec": {
   "display_name": "Python 3 (ipykernel)",
   "language": "python",
   "name": "python3"
  },
  "language_info": {
   "codemirror_mode": {
    "name": "ipython",
    "version": 3
   },
   "file_extension": ".py",
   "mimetype": "text/x-python",
   "name": "python",
   "nbconvert_exporter": "python",
   "pygments_lexer": "ipython3",
   "version": "3.10.4"
  }
 },
 "nbformat": 4,
 "nbformat_minor": 5
}
