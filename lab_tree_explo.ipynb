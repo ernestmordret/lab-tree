{
 "cells": [
  {
   "cell_type": "code",
   "execution_count": 1,
   "id": "protected-mouth",
   "metadata": {},
   "outputs": [
    {
     "name": "stdout",
     "output_type": "stream",
     "text": [
      "Requirement already satisfied: scholarly in /Users/ernestmordret/opt/anaconda3/envs/lab_tree/lib/python3.6/site-packages (1.2.0)\n",
      "Requirement already satisfied: requests[socks] in /Users/ernestmordret/opt/anaconda3/envs/lab_tree/lib/python3.6/site-packages (from scholarly) (2.25.1)\n",
      "Requirement already satisfied: stem in /Users/ernestmordret/opt/anaconda3/envs/lab_tree/lib/python3.6/site-packages (from scholarly) (1.8.0)\n",
      "Requirement already satisfied: fake-useragent in /Users/ernestmordret/opt/anaconda3/envs/lab_tree/lib/python3.6/site-packages (from scholarly) (0.1.11)\n",
      "Requirement already satisfied: PySocks in /Users/ernestmordret/opt/anaconda3/envs/lab_tree/lib/python3.6/site-packages (from scholarly) (1.7.1)\n",
      "Requirement already satisfied: python-dotenv in /Users/ernestmordret/opt/anaconda3/envs/lab_tree/lib/python3.6/site-packages (from scholarly) (0.17.0)\n",
      "Requirement already satisfied: selenium in /Users/ernestmordret/opt/anaconda3/envs/lab_tree/lib/python3.6/site-packages (from scholarly) (3.141.0)\n",
      "Requirement already satisfied: beautifulsoup4 in /Users/ernestmordret/opt/anaconda3/envs/lab_tree/lib/python3.6/site-packages (from scholarly) (4.9.3)\n",
      "Requirement already satisfied: free-proxy in /Users/ernestmordret/opt/anaconda3/envs/lab_tree/lib/python3.6/site-packages (from scholarly) (1.0.2)\n",
      "Requirement already satisfied: sphinx-rtd-theme in /Users/ernestmordret/opt/anaconda3/envs/lab_tree/lib/python3.6/site-packages (from scholarly) (0.5.2)\n",
      "Requirement already satisfied: typing-extensions in /Users/ernestmordret/opt/anaconda3/envs/lab_tree/lib/python3.6/site-packages (from scholarly) (3.7.4.3)\n",
      "Requirement already satisfied: bibtexparser in /Users/ernestmordret/opt/anaconda3/envs/lab_tree/lib/python3.6/site-packages (from scholarly) (1.2.0)\n",
      "Requirement already satisfied: arrow in /Users/ernestmordret/opt/anaconda3/envs/lab_tree/lib/python3.6/site-packages (from scholarly) (1.0.3)\n",
      "Requirement already satisfied: python-dateutil>=2.7.0 in /Users/ernestmordret/opt/anaconda3/envs/lab_tree/lib/python3.6/site-packages (from arrow->scholarly) (2.8.1)\n",
      "Requirement already satisfied: six>=1.5 in /Users/ernestmordret/opt/anaconda3/envs/lab_tree/lib/python3.6/site-packages (from python-dateutil>=2.7.0->arrow->scholarly) (1.15.0)\n",
      "Requirement already satisfied: soupsieve>1.2 in /Users/ernestmordret/opt/anaconda3/envs/lab_tree/lib/python3.6/site-packages (from beautifulsoup4->scholarly) (2.2.1)\n",
      "Requirement already satisfied: pyparsing>=2.0.3 in /Users/ernestmordret/opt/anaconda3/envs/lab_tree/lib/python3.6/site-packages (from bibtexparser->scholarly) (2.4.7)\n",
      "Requirement already satisfied: future>=0.16.0 in /Users/ernestmordret/opt/anaconda3/envs/lab_tree/lib/python3.6/site-packages (from bibtexparser->scholarly) (0.18.2)\n",
      "Requirement already satisfied: lxml in /Users/ernestmordret/opt/anaconda3/envs/lab_tree/lib/python3.6/site-packages (from free-proxy->scholarly) (4.6.3)\n",
      "Requirement already satisfied: chardet<5,>=3.0.2 in /Users/ernestmordret/opt/anaconda3/envs/lab_tree/lib/python3.6/site-packages (from requests[socks]->scholarly) (4.0.0)\n",
      "Requirement already satisfied: idna<3,>=2.5 in /Users/ernestmordret/opt/anaconda3/envs/lab_tree/lib/python3.6/site-packages (from requests[socks]->scholarly) (2.10)\n",
      "Requirement already satisfied: certifi>=2017.4.17 in /Users/ernestmordret/opt/anaconda3/envs/lab_tree/lib/python3.6/site-packages (from requests[socks]->scholarly) (2020.12.5)\n",
      "Requirement already satisfied: urllib3<1.27,>=1.21.1 in /Users/ernestmordret/opt/anaconda3/envs/lab_tree/lib/python3.6/site-packages (from requests[socks]->scholarly) (1.26.4)\n",
      "Requirement already satisfied: cryptography>=1.3.4 in /Users/ernestmordret/opt/anaconda3/envs/lab_tree/lib/python3.6/site-packages (from requests[socks]->scholarly) (3.4.7)\n",
      "Requirement already satisfied: pyOpenSSL>=0.14 in /Users/ernestmordret/opt/anaconda3/envs/lab_tree/lib/python3.6/site-packages (from requests[socks]->scholarly) (20.0.1)\n",
      "Requirement already satisfied: cffi>=1.12 in /Users/ernestmordret/opt/anaconda3/envs/lab_tree/lib/python3.6/site-packages (from cryptography>=1.3.4->requests[socks]->scholarly) (1.14.5)\n",
      "Requirement already satisfied: pycparser in /Users/ernestmordret/opt/anaconda3/envs/lab_tree/lib/python3.6/site-packages (from cffi>=1.12->cryptography>=1.3.4->requests[socks]->scholarly) (2.20)\n",
      "Requirement already satisfied: sphinx in /Users/ernestmordret/opt/anaconda3/envs/lab_tree/lib/python3.6/site-packages (from sphinx-rtd-theme->scholarly) (3.5.4)\n",
      "Requirement already satisfied: docutils<0.17 in /Users/ernestmordret/opt/anaconda3/envs/lab_tree/lib/python3.6/site-packages (from sphinx-rtd-theme->scholarly) (0.16)\n",
      "Requirement already satisfied: setuptools in /Users/ernestmordret/opt/anaconda3/envs/lab_tree/lib/python3.6/site-packages (from sphinx->sphinx-rtd-theme->scholarly) (49.6.0.post20210108)\n",
      "Requirement already satisfied: sphinxcontrib-htmlhelp in /Users/ernestmordret/opt/anaconda3/envs/lab_tree/lib/python3.6/site-packages (from sphinx->sphinx-rtd-theme->scholarly) (1.0.3)\n",
      "Requirement already satisfied: Jinja2>=2.3 in /Users/ernestmordret/opt/anaconda3/envs/lab_tree/lib/python3.6/site-packages (from sphinx->sphinx-rtd-theme->scholarly) (2.11.3)\n",
      "Requirement already satisfied: snowballstemmer>=1.1 in /Users/ernestmordret/opt/anaconda3/envs/lab_tree/lib/python3.6/site-packages (from sphinx->sphinx-rtd-theme->scholarly) (2.1.0)\n",
      "Requirement already satisfied: alabaster<0.8,>=0.7 in /Users/ernestmordret/opt/anaconda3/envs/lab_tree/lib/python3.6/site-packages (from sphinx->sphinx-rtd-theme->scholarly) (0.7.12)\n",
      "Requirement already satisfied: sphinxcontrib-applehelp in /Users/ernestmordret/opt/anaconda3/envs/lab_tree/lib/python3.6/site-packages (from sphinx->sphinx-rtd-theme->scholarly) (1.0.2)\n",
      "Requirement already satisfied: sphinxcontrib-jsmath in /Users/ernestmordret/opt/anaconda3/envs/lab_tree/lib/python3.6/site-packages (from sphinx->sphinx-rtd-theme->scholarly) (1.0.1)\n",
      "Requirement already satisfied: sphinxcontrib-devhelp in /Users/ernestmordret/opt/anaconda3/envs/lab_tree/lib/python3.6/site-packages (from sphinx->sphinx-rtd-theme->scholarly) (1.0.2)\n",
      "Requirement already satisfied: babel>=1.3 in /Users/ernestmordret/opt/anaconda3/envs/lab_tree/lib/python3.6/site-packages (from sphinx->sphinx-rtd-theme->scholarly) (2.9.0)\n",
      "Requirement already satisfied: sphinxcontrib-serializinghtml in /Users/ernestmordret/opt/anaconda3/envs/lab_tree/lib/python3.6/site-packages (from sphinx->sphinx-rtd-theme->scholarly) (1.1.4)\n",
      "Requirement already satisfied: sphinxcontrib-qthelp in /Users/ernestmordret/opt/anaconda3/envs/lab_tree/lib/python3.6/site-packages (from sphinx->sphinx-rtd-theme->scholarly) (1.0.3)\n",
      "Requirement already satisfied: Pygments>=2.0 in /Users/ernestmordret/opt/anaconda3/envs/lab_tree/lib/python3.6/site-packages (from sphinx->sphinx-rtd-theme->scholarly) (2.8.1)\n",
      "Requirement already satisfied: packaging in /Users/ernestmordret/opt/anaconda3/envs/lab_tree/lib/python3.6/site-packages (from sphinx->sphinx-rtd-theme->scholarly) (20.9)\n",
      "Requirement already satisfied: imagesize in /Users/ernestmordret/opt/anaconda3/envs/lab_tree/lib/python3.6/site-packages (from sphinx->sphinx-rtd-theme->scholarly) (1.2.0)\n",
      "Requirement already satisfied: pytz>=2015.7 in /Users/ernestmordret/opt/anaconda3/envs/lab_tree/lib/python3.6/site-packages (from babel>=1.3->sphinx->sphinx-rtd-theme->scholarly) (2021.1)\n",
      "Requirement already satisfied: MarkupSafe>=0.23 in /Users/ernestmordret/opt/anaconda3/envs/lab_tree/lib/python3.6/site-packages (from Jinja2>=2.3->sphinx->sphinx-rtd-theme->scholarly) (1.1.1)\n",
      "Requirement already satisfied: tqdm in /Users/ernestmordret/opt/anaconda3/envs/lab_tree/lib/python3.6/site-packages (4.60.0)\n",
      "Requirement already satisfied: pandas in /Users/ernestmordret/opt/anaconda3/envs/lab_tree/lib/python3.6/site-packages (1.1.5)\n",
      "Requirement already satisfied: numpy>=1.15.4 in /Users/ernestmordret/opt/anaconda3/envs/lab_tree/lib/python3.6/site-packages (from pandas) (1.19.5)\n",
      "Requirement already satisfied: python-dateutil>=2.7.3 in /Users/ernestmordret/opt/anaconda3/envs/lab_tree/lib/python3.6/site-packages (from pandas) (2.8.1)\n",
      "Requirement already satisfied: pytz>=2017.2 in /Users/ernestmordret/opt/anaconda3/envs/lab_tree/lib/python3.6/site-packages (from pandas) (2021.1)\n",
      "Requirement already satisfied: six>=1.5 in /Users/ernestmordret/opt/anaconda3/envs/lab_tree/lib/python3.6/site-packages (from python-dateutil>=2.7.3->pandas) (1.15.0)\n",
      "Requirement already satisfied: pymed in /Users/ernestmordret/opt/anaconda3/envs/lab_tree/lib/python3.6/site-packages (0.8.9)\n",
      "Requirement already satisfied: requests>=2.20.0 in /Users/ernestmordret/opt/anaconda3/envs/lab_tree/lib/python3.6/site-packages (from pymed) (2.25.1)\n",
      "Requirement already satisfied: chardet<5,>=3.0.2 in /Users/ernestmordret/opt/anaconda3/envs/lab_tree/lib/python3.6/site-packages (from requests>=2.20.0->pymed) (4.0.0)\n",
      "Requirement already satisfied: urllib3<1.27,>=1.21.1 in /Users/ernestmordret/opt/anaconda3/envs/lab_tree/lib/python3.6/site-packages (from requests>=2.20.0->pymed) (1.26.4)\n",
      "Requirement already satisfied: certifi>=2017.4.17 in /Users/ernestmordret/opt/anaconda3/envs/lab_tree/lib/python3.6/site-packages (from requests>=2.20.0->pymed) (2020.12.5)\n",
      "Requirement already satisfied: idna<3,>=2.5 in /Users/ernestmordret/opt/anaconda3/envs/lab_tree/lib/python3.6/site-packages (from requests>=2.20.0->pymed) (2.10)\n"
     ]
    }
   ],
   "source": [
    "!pip install scholarly\n",
    "!pip install tqdm\n",
    "!pip install pandas\n",
    "!pip install pymed"
   ]
  },
  {
   "cell_type": "markdown",
   "id": "7cdbed62-0650-452c-938e-9f09fb152cec",
   "metadata": {},
   "source": [
    "## PART 1: Fetch publications and abstracts from google scholar"
   ]
  },
  {
   "cell_type": "code",
   "execution_count": 2,
   "id": "7be48b90-54ca-478d-9de5-b625f945d142",
   "metadata": {},
   "outputs": [],
   "source": [
    "from scholarly import scholarly #, ProxyGenerator\n",
    "import pymed\n",
    "from pymed import PubMed\n",
    "from tqdm import tqdm\n",
    "import requests\n",
    "from xml.etree import ElementTree"
   ]
  },
  {
   "cell_type": "code",
   "execution_count": 3,
   "id": "5462bc36-d9dd-46b8-ae3e-70fa568db9aa",
   "metadata": {},
   "outputs": [],
   "source": [
    "AUTHOR = 'Marc Kirschner'\n",
    "last_name = 'kirschner' # lower case is better\n",
    "\n",
    "# Retrieve the author's data, fill-in, and print\n",
    "try:\n",
    "    search_query = scholarly.search_author(AUTHOR)\n",
    "    author = scholarly.fill(next(search_query))\n",
    "    \n",
    "except:\n",
    "    \n",
    "    from scholarly import ProxyGenerator\n",
    "\n",
    "    pg = ProxyGenerator()\n",
    "    pg.FreeProxies()\n",
    "    scholarly.use_proxy(pg)\n",
    "    search_query = scholarly.search_author(AUTHOR)\n",
    "    author = scholarly.fill(next(search_query))"
   ]
  },
  {
   "cell_type": "code",
   "execution_count": 4,
   "id": "bulgarian-timing",
   "metadata": {},
   "outputs": [
    {
     "name": "stderr",
     "output_type": "stream",
     "text": [
      " 28%|██▊       | 182/655 [09:05<23:36,  3.00s/it]  \n"
     ]
    },
    {
     "ename": "MaxTriesExceededException",
     "evalue": "Cannot Fetch from Google Scholar.",
     "output_type": "error",
     "traceback": [
      "\u001b[0;31m---------------------------------------------------------------------------\u001b[0m",
      "\u001b[0;31mMaxTriesExceededException\u001b[0m                 Traceback (most recent call last)",
      "\u001b[0;32m<ipython-input-4-fd097a1ce603>\u001b[0m in \u001b[0;36m<module>\u001b[0;34m()\u001b[0m\n\u001b[1;32m      1\u001b[0m \u001b[0;34m\u001b[0m\u001b[0m\n\u001b[1;32m      2\u001b[0m \u001b[0;32mfor\u001b[0m \u001b[0mpub\u001b[0m \u001b[0;32min\u001b[0m \u001b[0mtqdm\u001b[0m\u001b[0;34m(\u001b[0m\u001b[0mauthor\u001b[0m\u001b[0;34m[\u001b[0m\u001b[0;34m'publications'\u001b[0m\u001b[0;34m]\u001b[0m\u001b[0;34m)\u001b[0m\u001b[0;34m:\u001b[0m\u001b[0;34m\u001b[0m\u001b[0;34m\u001b[0m\u001b[0m\n\u001b[0;32m----> 3\u001b[0;31m     \u001b[0mscholarly\u001b[0m\u001b[0;34m.\u001b[0m\u001b[0mfill\u001b[0m\u001b[0;34m(\u001b[0m\u001b[0mpub\u001b[0m\u001b[0;34m)\u001b[0m\u001b[0;34m\u001b[0m\u001b[0;34m\u001b[0m\u001b[0m\n\u001b[0m",
      "\u001b[0;32m/Users/ernestmordret/opt/anaconda3/envs/lab_tree/lib/python3.6/site-packages/scholarly/_scholarly.py\u001b[0m in \u001b[0;36mfill\u001b[0;34m(self, object, sections, sortby, publication_limit)\u001b[0m\n\u001b[1;32m    209\u001b[0m         \u001b[0;32melif\u001b[0m \u001b[0mobject\u001b[0m\u001b[0;34m[\u001b[0m\u001b[0;34m'container_type'\u001b[0m\u001b[0;34m]\u001b[0m \u001b[0;34m==\u001b[0m \u001b[0;34m\"Publication\"\u001b[0m\u001b[0;34m:\u001b[0m\u001b[0;34m\u001b[0m\u001b[0;34m\u001b[0m\u001b[0m\n\u001b[1;32m    210\u001b[0m             \u001b[0mpublication_parser\u001b[0m \u001b[0;34m=\u001b[0m \u001b[0mPublicationParser\u001b[0m\u001b[0;34m(\u001b[0m\u001b[0mself\u001b[0m\u001b[0;34m.\u001b[0m\u001b[0m__nav\u001b[0m\u001b[0;34m)\u001b[0m\u001b[0;34m\u001b[0m\u001b[0;34m\u001b[0m\u001b[0m\n\u001b[0;32m--> 211\u001b[0;31m             \u001b[0mobject\u001b[0m \u001b[0;34m=\u001b[0m \u001b[0mpublication_parser\u001b[0m\u001b[0;34m.\u001b[0m\u001b[0mfill\u001b[0m\u001b[0;34m(\u001b[0m\u001b[0mobject\u001b[0m\u001b[0;34m)\u001b[0m\u001b[0;34m\u001b[0m\u001b[0;34m\u001b[0m\u001b[0m\n\u001b[0m\u001b[1;32m    212\u001b[0m         \u001b[0;32mreturn\u001b[0m \u001b[0mobject\u001b[0m\u001b[0;34m\u001b[0m\u001b[0;34m\u001b[0m\u001b[0m\n\u001b[1;32m    213\u001b[0m \u001b[0;34m\u001b[0m\u001b[0m\n",
      "\u001b[0;32m/Users/ernestmordret/opt/anaconda3/envs/lab_tree/lib/python3.6/site-packages/scholarly/publication_parser.py\u001b[0m in \u001b[0;36mfill\u001b[0;34m(self, publication)\u001b[0m\n\u001b[1;32m    263\u001b[0m         \u001b[0;32mif\u001b[0m \u001b[0mpublication\u001b[0m\u001b[0;34m[\u001b[0m\u001b[0;34m'source'\u001b[0m\u001b[0;34m]\u001b[0m \u001b[0;34m==\u001b[0m \u001b[0mPublicationSource\u001b[0m\u001b[0;34m.\u001b[0m\u001b[0mAUTHOR_PUBLICATION_ENTRY\u001b[0m\u001b[0;34m:\u001b[0m\u001b[0;34m\u001b[0m\u001b[0;34m\u001b[0m\u001b[0m\n\u001b[1;32m    264\u001b[0m             \u001b[0murl\u001b[0m \u001b[0;34m=\u001b[0m \u001b[0m_CITATIONPUB\u001b[0m\u001b[0;34m.\u001b[0m\u001b[0mformat\u001b[0m\u001b[0;34m(\u001b[0m\u001b[0mpublication\u001b[0m\u001b[0;34m[\u001b[0m\u001b[0;34m'author_pub_id'\u001b[0m\u001b[0;34m]\u001b[0m\u001b[0;34m)\u001b[0m\u001b[0;34m\u001b[0m\u001b[0;34m\u001b[0m\u001b[0m\n\u001b[0;32m--> 265\u001b[0;31m             \u001b[0msoup\u001b[0m \u001b[0;34m=\u001b[0m \u001b[0mself\u001b[0m\u001b[0;34m.\u001b[0m\u001b[0mnav\u001b[0m\u001b[0;34m.\u001b[0m\u001b[0m_get_soup\u001b[0m\u001b[0;34m(\u001b[0m\u001b[0murl\u001b[0m\u001b[0;34m)\u001b[0m\u001b[0;34m\u001b[0m\u001b[0;34m\u001b[0m\u001b[0m\n\u001b[0m\u001b[1;32m    266\u001b[0m             \u001b[0mpublication\u001b[0m\u001b[0;34m[\u001b[0m\u001b[0;34m'bib'\u001b[0m\u001b[0;34m]\u001b[0m\u001b[0;34m[\u001b[0m\u001b[0;34m'title'\u001b[0m\u001b[0;34m]\u001b[0m \u001b[0;34m=\u001b[0m \u001b[0msoup\u001b[0m\u001b[0;34m.\u001b[0m\u001b[0mfind\u001b[0m\u001b[0;34m(\u001b[0m\u001b[0;34m'div'\u001b[0m\u001b[0;34m,\u001b[0m \u001b[0mid\u001b[0m\u001b[0;34m=\u001b[0m\u001b[0;34m'gsc_vcd_title'\u001b[0m\u001b[0;34m)\u001b[0m\u001b[0;34m.\u001b[0m\u001b[0mtext\u001b[0m\u001b[0;34m\u001b[0m\u001b[0;34m\u001b[0m\u001b[0m\n\u001b[1;32m    267\u001b[0m             \u001b[0;32mif\u001b[0m \u001b[0msoup\u001b[0m\u001b[0;34m.\u001b[0m\u001b[0mfind\u001b[0m\u001b[0;34m(\u001b[0m\u001b[0;34m'a'\u001b[0m\u001b[0;34m,\u001b[0m \u001b[0mclass_\u001b[0m\u001b[0;34m=\u001b[0m\u001b[0;34m'gsc_vcd_title_link'\u001b[0m\u001b[0;34m)\u001b[0m\u001b[0;34m:\u001b[0m\u001b[0;34m\u001b[0m\u001b[0;34m\u001b[0m\u001b[0m\n",
      "\u001b[0;32m/Users/ernestmordret/opt/anaconda3/envs/lab_tree/lib/python3.6/site-packages/scholarly/_navigator.py\u001b[0m in \u001b[0;36m_get_soup\u001b[0;34m(self, url)\u001b[0m\n\u001b[1;32m    210\u001b[0m     \u001b[0;32mdef\u001b[0m \u001b[0m_get_soup\u001b[0m\u001b[0;34m(\u001b[0m\u001b[0mself\u001b[0m\u001b[0;34m,\u001b[0m \u001b[0murl\u001b[0m\u001b[0;34m:\u001b[0m \u001b[0mstr\u001b[0m\u001b[0;34m)\u001b[0m \u001b[0;34m->\u001b[0m \u001b[0mBeautifulSoup\u001b[0m\u001b[0;34m:\u001b[0m\u001b[0;34m\u001b[0m\u001b[0;34m\u001b[0m\u001b[0m\n\u001b[1;32m    211\u001b[0m         \u001b[0;34m\"\"\"Return the BeautifulSoup for a page on scholar.google.com\"\"\"\u001b[0m\u001b[0;34m\u001b[0m\u001b[0;34m\u001b[0m\u001b[0m\n\u001b[0;32m--> 212\u001b[0;31m         \u001b[0mhtml\u001b[0m \u001b[0;34m=\u001b[0m \u001b[0mself\u001b[0m\u001b[0;34m.\u001b[0m\u001b[0m_get_page\u001b[0m\u001b[0;34m(\u001b[0m\u001b[0;34m'https://scholar.google.com{0}'\u001b[0m\u001b[0;34m.\u001b[0m\u001b[0mformat\u001b[0m\u001b[0;34m(\u001b[0m\u001b[0murl\u001b[0m\u001b[0;34m)\u001b[0m\u001b[0;34m)\u001b[0m\u001b[0;34m\u001b[0m\u001b[0;34m\u001b[0m\u001b[0m\n\u001b[0m\u001b[1;32m    213\u001b[0m         \u001b[0mhtml\u001b[0m \u001b[0;34m=\u001b[0m \u001b[0mhtml\u001b[0m\u001b[0;34m.\u001b[0m\u001b[0mreplace\u001b[0m\u001b[0;34m(\u001b[0m\u001b[0;34mu'\\xa0'\u001b[0m\u001b[0;34m,\u001b[0m \u001b[0;34mu' '\u001b[0m\u001b[0;34m)\u001b[0m\u001b[0;34m\u001b[0m\u001b[0;34m\u001b[0m\u001b[0m\n\u001b[1;32m    214\u001b[0m         \u001b[0mres\u001b[0m \u001b[0;34m=\u001b[0m \u001b[0mBeautifulSoup\u001b[0m\u001b[0;34m(\u001b[0m\u001b[0mhtml\u001b[0m\u001b[0;34m,\u001b[0m \u001b[0;34m'html.parser'\u001b[0m\u001b[0;34m)\u001b[0m\u001b[0;34m\u001b[0m\u001b[0;34m\u001b[0m\u001b[0m\n",
      "\u001b[0;32m/Users/ernestmordret/opt/anaconda3/envs/lab_tree/lib/python3.6/site-packages/scholarly/_navigator.py\u001b[0m in \u001b[0;36m_get_page\u001b[0;34m(self, pagerequest)\u001b[0m\n\u001b[1;32m    162\u001b[0m             \u001b[0mtries\u001b[0m \u001b[0;34m+=\u001b[0m \u001b[0;36m1\u001b[0m\u001b[0;34m\u001b[0m\u001b[0;34m\u001b[0m\u001b[0m\n\u001b[1;32m    163\u001b[0m             \u001b[0mself\u001b[0m\u001b[0;34m.\u001b[0m\u001b[0m_session\u001b[0m\u001b[0;34m,\u001b[0m \u001b[0mtimeout\u001b[0m \u001b[0;34m=\u001b[0m \u001b[0mself\u001b[0m\u001b[0;34m.\u001b[0m\u001b[0mpm\u001b[0m\u001b[0;34m.\u001b[0m\u001b[0mget_next_proxy\u001b[0m\u001b[0;34m(\u001b[0m\u001b[0mnum_tries\u001b[0m \u001b[0;34m=\u001b[0m \u001b[0mtries\u001b[0m\u001b[0;34m,\u001b[0m \u001b[0mold_timeout\u001b[0m \u001b[0;34m=\u001b[0m \u001b[0mtimeout\u001b[0m\u001b[0;34m)\u001b[0m\u001b[0;34m\u001b[0m\u001b[0;34m\u001b[0m\u001b[0m\n\u001b[0;32m--> 164\u001b[0;31m         \u001b[0;32mraise\u001b[0m \u001b[0mMaxTriesExceededException\u001b[0m\u001b[0;34m(\u001b[0m\u001b[0;34m\"Cannot Fetch from Google Scholar.\"\u001b[0m\u001b[0;34m)\u001b[0m\u001b[0;34m\u001b[0m\u001b[0;34m\u001b[0m\u001b[0m\n\u001b[0m\u001b[1;32m    165\u001b[0m \u001b[0;34m\u001b[0m\u001b[0m\n\u001b[1;32m    166\u001b[0m \u001b[0;34m\u001b[0m\u001b[0m\n",
      "\u001b[0;31mMaxTriesExceededException\u001b[0m: Cannot Fetch from Google Scholar."
     ]
    }
   ],
   "source": [
    "\n",
    "for pub in tqdm(author['publications']):\n",
    "    scholarly.fill(pub)"
   ]
  },
  {
   "cell_type": "code",
   "execution_count": null,
   "id": "hundred-canal",
   "metadata": {},
   "outputs": [],
   "source": [
    "#df = pd.DataFrame(columns = ['title','year','authors','abstract'])\n",
    "import pandas as pd\n",
    "\n",
    "def fetch(pub):\n",
    "    return {'title':pub['bib'].get('title', ''), 'year': pub['bib'].get('pub_year', ''), 'authors': pub['bib'].get('author', ''), 'abstract': pub['bib'].get('abstract', '')}\n",
    "\n",
    "def fetch_keywords(pubmed_id, print_title=False):\n",
    "    url_pub = f'https://eutils.ncbi.nlm.nih.gov/entrez/eutils/efetch.fcgi?db=pubmed&id={pubmed_id}&&rettype=abstract&retmode=xml'\n",
    "    response = requests.get(url_pub)\n",
    "    tree = ElementTree.fromstring(response.content)\n",
    "    \n",
    "    if print_title:\n",
    "        for el in tree.iter('ArticleTitle'):\n",
    "            print(el.text)\n",
    "\n",
    "    keywords = []\n",
    "    for mesh in tree.iter('MeshHeading'):\n",
    "        descriptor = mesh.find('DescriptorName').text\n",
    "        keywords.append(descriptor)\n",
    "    return keywords\n",
    "\n",
    "with open('stopwords.txt') as f:\n",
    "    x = f.readlines()\n",
    "stopwords = [i.strip(',').strip() for i in x[0].split()]\n",
    "\n",
    "def write_query(title):\n",
    "    l = title.split()\n",
    "    l = [i.lower() for i in l if not i.lower() in stopwords]\n",
    "    l = [i.lower() for i in l if i.isalnum()]\n",
    "    return \" AND \".join([f\"{i}[Title]\" for i in l])+ f\" AND {last_name} [Author]\"\n"
   ]
  },
  {
   "cell_type": "code",
   "execution_count": null,
   "id": "exclusive-thumb",
   "metadata": {},
   "outputs": [],
   "source": [
    "df = pd.DataFrame([fetch(pub) for pub in author['publications']])"
   ]
  },
  {
   "cell_type": "code",
   "execution_count": null,
   "id": "prospective-branch",
   "metadata": {},
   "outputs": [],
   "source": [
    "df = df[df.year!='']\n",
    "df = df[df.authors.str.lower().str.contains(last_name)]\n",
    "df = df[df.abstract.notnull()]\n",
    "df.to_csv(f'{last_name}_publications.csv')"
   ]
  },
  {
   "cell_type": "code",
   "execution_count": null,
   "id": "coordinate-judgment",
   "metadata": {},
   "outputs": [],
   "source": [
    "df = pd.read_csv(f'{last_name}_publications.csv', index_col=0)"
   ]
  },
  {
   "cell_type": "code",
   "execution_count": null,
   "id": "c960cb1c-8f0c-4b2e-a8c6-8cf14ba0c001",
   "metadata": {},
   "outputs": [],
   "source": [
    "df.set_index('title', inplace = True)"
   ]
  },
  {
   "cell_type": "code",
   "execution_count": null,
   "id": "interim-isolation",
   "metadata": {},
   "outputs": [],
   "source": [
    "\n",
    "pubmed = PubMed(tool=\"MyTool\", email=\"my@email.address\")\n",
    "\n",
    "for i in tqdm(df.index):\n",
    "    title = i\n",
    "    year = df.loc[i,'year']\n",
    "    q = write_query(title)\n",
    "    results = pubmed.query(q, max_results=1)\n",
    "    #print(title)\n",
    "    try:\n",
    "        x = next(results)\n",
    "        x = x.toDict()\n",
    "        pubmed_id = x['pubmed_id'].split('\\n')[0]\n",
    "        keywords = fetch_keywords(pubmed_id)\n",
    "        df.loc[i, keywords] = 1\n",
    "        df.loc[i, 'pubmed_id'] = pubmed_id\n",
    "        #print(keywords, '\\n')\n",
    "\n",
    "\n",
    "    except StopIteration:\n",
    "\n",
    "        #print(\"QUERY NOT FOUND!!! \\n\")\n",
    "        continue\n",
    "    \n",
    "    \n",
    "    \n",
    "\n"
   ]
  },
  {
   "cell_type": "code",
   "execution_count": null,
   "id": "99839a8d-d94c-437f-ac64-5c2f202c02ac",
   "metadata": {},
   "outputs": [],
   "source": [
    "kw_cols = df.columns[4:]\n",
    "df[kw_cols] = pd.notnull(df[kw_cols])\n",
    "\n",
    "df[kw_cols]"
   ]
  },
  {
   "cell_type": "code",
   "execution_count": null,
   "id": "9994fe85-7984-4685-8e6f-c2bb9573a967",
   "metadata": {},
   "outputs": [],
   "source": [
    "(df[kw_cols].sum(1) == 0).mean()"
   ]
  },
  {
   "cell_type": "code",
   "execution_count": null,
   "id": "e3230008-64e2-4447-9fdf-d621e24f9466",
   "metadata": {},
   "outputs": [],
   "source": [
    "df_full = df[(df[kw_cols].sum(1) != 0)]"
   ]
  },
  {
   "cell_type": "code",
   "execution_count": null,
   "id": "4f86fe2f-f729-4013-a61e-ad2a3e2579f8",
   "metadata": {},
   "outputs": [],
   "source": [
    "df_full[kw_cols].sum(1)"
   ]
  },
  {
   "cell_type": "code",
   "execution_count": null,
   "id": "21553119-3317-4c95-9b4c-3b3109ff2e2e",
   "metadata": {},
   "outputs": [],
   "source": []
  }
 ],
 "metadata": {
  "kernelspec": {
   "display_name": "Python 3",
   "language": "python",
   "name": "python3"
  },
  "language_info": {
   "codemirror_mode": {
    "name": "ipython",
    "version": 3
   },
   "file_extension": ".py",
   "mimetype": "text/x-python",
   "name": "python",
   "nbconvert_exporter": "python",
   "pygments_lexer": "ipython3",
   "version": "3.6.13"
  }
 },
 "nbformat": 4,
 "nbformat_minor": 5
}
