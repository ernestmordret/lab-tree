{
 "cells": [
  {
   "cell_type": "code",
   "execution_count": 30,
   "id": "connected-courage",
   "metadata": {},
   "outputs": [
    {
     "name": "stdout",
     "output_type": "stream",
     "text": [
      "Requirement already satisfied: scholarly in /Users/ernestmordret/opt/anaconda3/envs/PY_R/lib/python3.8/site-packages (1.1.0)\n",
      "Requirement already satisfied: python-dotenv in /Users/ernestmordret/opt/anaconda3/envs/PY_R/lib/python3.8/site-packages (from scholarly) (0.16.0)\n",
      "Requirement already satisfied: free-proxy in /Users/ernestmordret/opt/anaconda3/envs/PY_R/lib/python3.8/site-packages (from scholarly) (1.0.2)\n",
      "Requirement already satisfied: sphinx-rtd-theme in /Users/ernestmordret/opt/anaconda3/envs/PY_R/lib/python3.8/site-packages (from scholarly) (0.5.1)\n",
      "Requirement already satisfied: typing-extensions in /Users/ernestmordret/opt/anaconda3/envs/PY_R/lib/python3.8/site-packages (from scholarly) (3.7.4.3)\n",
      "Requirement already satisfied: stem in /Users/ernestmordret/opt/anaconda3/envs/PY_R/lib/python3.8/site-packages (from scholarly) (1.8.0)\n",
      "Requirement already satisfied: fake-useragent in /Users/ernestmordret/opt/anaconda3/envs/PY_R/lib/python3.8/site-packages (from scholarly) (0.1.11)\n",
      "Requirement already satisfied: requests[socks] in /Users/ernestmordret/opt/anaconda3/envs/PY_R/lib/python3.8/site-packages (from scholarly) (2.25.1)\n",
      "Requirement already satisfied: arrow in /Users/ernestmordret/opt/anaconda3/envs/PY_R/lib/python3.8/site-packages (from scholarly) (1.0.3)\n",
      "Requirement already satisfied: PySocks in /Users/ernestmordret/opt/anaconda3/envs/PY_R/lib/python3.8/site-packages (from scholarly) (1.7.1)\n",
      "Requirement already satisfied: selenium in /Users/ernestmordret/opt/anaconda3/envs/PY_R/lib/python3.8/site-packages (from scholarly) (3.141.0)\n",
      "Requirement already satisfied: beautifulsoup4 in /Users/ernestmordret/opt/anaconda3/envs/PY_R/lib/python3.8/site-packages (from scholarly) (4.9.3)\n",
      "Requirement already satisfied: bibtexparser in /Users/ernestmordret/opt/anaconda3/envs/PY_R/lib/python3.8/site-packages (from scholarly) (1.2.0)\n",
      "Requirement already satisfied: python-dateutil>=2.7.0 in /Users/ernestmordret/opt/anaconda3/envs/PY_R/lib/python3.8/site-packages (from arrow->scholarly) (2.8.1)\n",
      "Requirement already satisfied: six>=1.5 in /Users/ernestmordret/opt/anaconda3/envs/PY_R/lib/python3.8/site-packages (from python-dateutil>=2.7.0->arrow->scholarly) (1.15.0)\n",
      "Requirement already satisfied: soupsieve>1.2 in /Users/ernestmordret/opt/anaconda3/envs/PY_R/lib/python3.8/site-packages (from beautifulsoup4->scholarly) (2.2.1)\n",
      "Requirement already satisfied: pyparsing>=2.0.3 in /Users/ernestmordret/opt/anaconda3/envs/PY_R/lib/python3.8/site-packages (from bibtexparser->scholarly) (2.4.7)\n",
      "Requirement already satisfied: future>=0.16.0 in /Users/ernestmordret/opt/anaconda3/envs/PY_R/lib/python3.8/site-packages (from bibtexparser->scholarly) (0.18.2)\n",
      "Requirement already satisfied: lxml in /Users/ernestmordret/opt/anaconda3/envs/PY_R/lib/python3.8/site-packages (from free-proxy->scholarly) (4.6.3)\n",
      "Requirement already satisfied: certifi>=2017.4.17 in /Users/ernestmordret/opt/anaconda3/envs/PY_R/lib/python3.8/site-packages (from requests[socks]->scholarly) (2020.12.5)\n",
      "Requirement already satisfied: chardet<5,>=3.0.2 in /Users/ernestmordret/opt/anaconda3/envs/PY_R/lib/python3.8/site-packages (from requests[socks]->scholarly) (4.0.0)\n",
      "Requirement already satisfied: idna<3,>=2.5 in /Users/ernestmordret/opt/anaconda3/envs/PY_R/lib/python3.8/site-packages (from requests[socks]->scholarly) (2.10)\n",
      "Requirement already satisfied: urllib3<1.27,>=1.21.1 in /Users/ernestmordret/opt/anaconda3/envs/PY_R/lib/python3.8/site-packages (from requests[socks]->scholarly) (1.26.2)\n",
      "Requirement already satisfied: pyOpenSSL>=0.14 in /Users/ernestmordret/opt/anaconda3/envs/PY_R/lib/python3.8/site-packages (from requests[socks]->scholarly) (20.0.1)\n",
      "Requirement already satisfied: cryptography>=1.3.4 in /Users/ernestmordret/opt/anaconda3/envs/PY_R/lib/python3.8/site-packages (from requests[socks]->scholarly) (3.3.1)\n",
      "Requirement already satisfied: cffi>=1.12 in /Users/ernestmordret/opt/anaconda3/envs/PY_R/lib/python3.8/site-packages (from cryptography>=1.3.4->requests[socks]->scholarly) (1.14.4)\n",
      "Requirement already satisfied: pycparser in /Users/ernestmordret/opt/anaconda3/envs/PY_R/lib/python3.8/site-packages (from cffi>=1.12->cryptography>=1.3.4->requests[socks]->scholarly) (2.20)\n",
      "Requirement already satisfied: sphinx in /Users/ernestmordret/opt/anaconda3/envs/PY_R/lib/python3.8/site-packages (from sphinx-rtd-theme->scholarly) (3.5.3)\n",
      "Requirement already satisfied: babel>=1.3 in /Users/ernestmordret/opt/anaconda3/envs/PY_R/lib/python3.8/site-packages (from sphinx->sphinx-rtd-theme->scholarly) (2.9.0)\n",
      "Requirement already satisfied: Jinja2>=2.3 in /Users/ernestmordret/opt/anaconda3/envs/PY_R/lib/python3.8/site-packages (from sphinx->sphinx-rtd-theme->scholarly) (2.11.2)\n",
      "Requirement already satisfied: snowballstemmer>=1.1 in /Users/ernestmordret/opt/anaconda3/envs/PY_R/lib/python3.8/site-packages (from sphinx->sphinx-rtd-theme->scholarly) (2.1.0)\n",
      "Requirement already satisfied: setuptools in /Users/ernestmordret/opt/anaconda3/envs/PY_R/lib/python3.8/site-packages (from sphinx->sphinx-rtd-theme->scholarly) (49.6.0.post20210108)\n",
      "Requirement already satisfied: imagesize in /Users/ernestmordret/opt/anaconda3/envs/PY_R/lib/python3.8/site-packages (from sphinx->sphinx-rtd-theme->scholarly) (1.2.0)\n",
      "Requirement already satisfied: packaging in /Users/ernestmordret/opt/anaconda3/envs/PY_R/lib/python3.8/site-packages (from sphinx->sphinx-rtd-theme->scholarly) (20.8)\n",
      "Requirement already satisfied: sphinxcontrib-qthelp in /Users/ernestmordret/opt/anaconda3/envs/PY_R/lib/python3.8/site-packages (from sphinx->sphinx-rtd-theme->scholarly) (1.0.3)\n",
      "Requirement already satisfied: sphinxcontrib-htmlhelp in /Users/ernestmordret/opt/anaconda3/envs/PY_R/lib/python3.8/site-packages (from sphinx->sphinx-rtd-theme->scholarly) (1.0.3)\n",
      "Requirement already satisfied: sphinxcontrib-serializinghtml in /Users/ernestmordret/opt/anaconda3/envs/PY_R/lib/python3.8/site-packages (from sphinx->sphinx-rtd-theme->scholarly) (1.1.4)\n",
      "Requirement already satisfied: docutils>=0.12 in /Users/ernestmordret/opt/anaconda3/envs/PY_R/lib/python3.8/site-packages (from sphinx->sphinx-rtd-theme->scholarly) (0.16)\n",
      "Requirement already satisfied: alabaster<0.8,>=0.7 in /Users/ernestmordret/opt/anaconda3/envs/PY_R/lib/python3.8/site-packages (from sphinx->sphinx-rtd-theme->scholarly) (0.7.12)\n",
      "Requirement already satisfied: Pygments>=2.0 in /Users/ernestmordret/opt/anaconda3/envs/PY_R/lib/python3.8/site-packages (from sphinx->sphinx-rtd-theme->scholarly) (2.7.4)\n",
      "Requirement already satisfied: sphinxcontrib-devhelp in /Users/ernestmordret/opt/anaconda3/envs/PY_R/lib/python3.8/site-packages (from sphinx->sphinx-rtd-theme->scholarly) (1.0.2)\n",
      "Requirement already satisfied: sphinxcontrib-applehelp in /Users/ernestmordret/opt/anaconda3/envs/PY_R/lib/python3.8/site-packages (from sphinx->sphinx-rtd-theme->scholarly) (1.0.2)\n",
      "Requirement already satisfied: sphinxcontrib-jsmath in /Users/ernestmordret/opt/anaconda3/envs/PY_R/lib/python3.8/site-packages (from sphinx->sphinx-rtd-theme->scholarly) (1.0.1)\n",
      "Requirement already satisfied: pytz>=2015.7 in /Users/ernestmordret/opt/anaconda3/envs/PY_R/lib/python3.8/site-packages (from babel>=1.3->sphinx->sphinx-rtd-theme->scholarly) (2020.5)\n",
      "Requirement already satisfied: MarkupSafe>=0.23 in /Users/ernestmordret/opt/anaconda3/envs/PY_R/lib/python3.8/site-packages (from Jinja2>=2.3->sphinx->sphinx-rtd-theme->scholarly) (1.1.1)\n",
      "Collecting tqdm\n",
      "  Downloading tqdm-4.60.0-py2.py3-none-any.whl (75 kB)\n",
      "\u001b[K     |████████████████████████████████| 75 kB 1.2 MB/s eta 0:00:01\n",
      "\u001b[?25hInstalling collected packages: tqdm\n",
      "Successfully installed tqdm-4.60.0\n"
     ]
    }
   ],
   "source": [
    "!pip install scholarly\n",
    "!pip install tqdm"
   ]
  },
  {
   "cell_type": "code",
   "execution_count": 7,
   "id": "thirty-sharp",
   "metadata": {},
   "outputs": [
    {
     "ename": "ImportError",
     "evalue": "cannot import name 'fill' from 'scholarly' (/Users/ernestmordret/opt/anaconda3/envs/PY_R/lib/python3.8/site-packages/scholarly/__init__.py)",
     "output_type": "error",
     "traceback": [
      "\u001b[0;31m---------------------------------------------------------------------------\u001b[0m",
      "\u001b[0;31mImportError\u001b[0m                               Traceback (most recent call last)",
      "\u001b[0;32m<ipython-input-7-b6d894b5fde2>\u001b[0m in \u001b[0;36m<module>\u001b[0;34m\u001b[0m\n\u001b[1;32m      1\u001b[0m \u001b[0;32mfrom\u001b[0m \u001b[0mscholarly\u001b[0m \u001b[0;32mimport\u001b[0m \u001b[0mscholarly\u001b[0m\u001b[0;34m\u001b[0m\u001b[0;34m\u001b[0m\u001b[0m\n\u001b[0;32m----> 2\u001b[0;31m \u001b[0;32mfrom\u001b[0m \u001b[0mscholarly\u001b[0m \u001b[0;32mimport\u001b[0m \u001b[0mscholarly\u001b[0m\u001b[0;34m,\u001b[0m \u001b[0mProxyGenerator\u001b[0m\u001b[0;34m,\u001b[0m \u001b[0mfill\u001b[0m\u001b[0;34m\u001b[0m\u001b[0;34m\u001b[0m\u001b[0m\n\u001b[0m\u001b[1;32m      3\u001b[0m \u001b[0;34m\u001b[0m\u001b[0m\n\u001b[1;32m      4\u001b[0m \u001b[0mpg\u001b[0m \u001b[0;34m=\u001b[0m \u001b[0mProxyGenerator\u001b[0m\u001b[0;34m(\u001b[0m\u001b[0;34m)\u001b[0m\u001b[0;34m\u001b[0m\u001b[0;34m\u001b[0m\u001b[0m\n\u001b[1;32m      5\u001b[0m \u001b[0mpg\u001b[0m\u001b[0;34m.\u001b[0m\u001b[0mLuminati\u001b[0m\u001b[0;34m(\u001b[0m\u001b[0musr\u001b[0m\u001b[0;34m=\u001b[0m \u001b[0;34m\"hl_ec8d6dff\"\u001b[0m\u001b[0;34m,\u001b[0m\u001b[0mpasswd\u001b[0m \u001b[0;34m=\u001b[0m\u001b[0;34m\"kqu0cjtprklu\"\u001b[0m\u001b[0;34m,\u001b[0m \u001b[0mproxy_port\u001b[0m\u001b[0;34m=\u001b[0m\u001b[0;36m22225\u001b[0m\u001b[0;34m)\u001b[0m\u001b[0;34m\u001b[0m\u001b[0;34m\u001b[0m\u001b[0m\n",
      "\u001b[0;31mImportError\u001b[0m: cannot import name 'fill' from 'scholarly' (/Users/ernestmordret/opt/anaconda3/envs/PY_R/lib/python3.8/site-packages/scholarly/__init__.py)"
     ]
    }
   ],
   "source": [
    "from scholarly import scholarly, ProxyGenerator\n",
    "\n",
    "pg = ProxyGenerator()\n",
    "pg.Luminati(usr= \"hl_ec8d6dff\",passwd =\"kqu0cjtprklu\", proxy_port=22225)\n",
    "scholarly.use_proxy(pg)\n",
    "\n",
    "# Retrieve the author's data, fill-in, and print\n",
    "search_query = scholarly.search_author('Marc Kirshner')\n",
    "author = scholarly.fill(next(search_query))\n",
    "print(author)"
   ]
  },
  {
   "cell_type": "code",
   "execution_count": 31,
   "id": "generous-authorization",
   "metadata": {},
   "outputs": [
    {
     "name": "stderr",
     "output_type": "stream",
     "text": [
      "100%|██████████| 652/652 [18:22<00:00,  1.69s/it]\n"
     ]
    }
   ],
   "source": [
    "from tqdm import tqdm\n",
    "\n",
    "for pub in tqdm(author['publications']):\n",
    "    scholarly.fill(pub)"
   ]
  },
  {
   "cell_type": "code",
   "execution_count": 46,
   "id": "czech-flooring",
   "metadata": {},
   "outputs": [],
   "source": [
    "pub = author['publications'][0]"
   ]
  },
  {
   "cell_type": "code",
   "execution_count": 47,
   "id": "dried-packing",
   "metadata": {},
   "outputs": [
    {
     "data": {
      "text/plain": [
       "{'container_type': 'Publication',\n",
       " 'source': <PublicationSource.AUTHOR_PUBLICATION_ENTRY: 2>,\n",
       " 'bib': {'title': 'Peptide mapping by limited proteolysis in sodium dodecyl sulfate and analysis by gel electrophoresis.',\n",
       "  'pub_year': 1977,\n",
       "  'author': 'Don W Cleveland and Stuart G Fischer and Marc W Kirschner and Ulrich K Laemmli',\n",
       "  'journal': 'Journal of Biological Chemistry',\n",
       "  'volume': '252',\n",
       "  'number': '3',\n",
       "  'pages': '1102-1106',\n",
       "  'publisher': 'Elsevier',\n",
       "  'abstract': 'A rapid and convenient method for peptide mapping of proteins has been developed. The technique, which is especially suitable for analysis of proteins that have been isolated from gels containg sodium dodecyl sulfate, involves partial enzymatic proteolysis in the presence of sodium dodecyl sulfate and analysis of the cleavage products by polyacrylamide gel electrophoresis. The pattern of peptide fragments produced is characteristic of the protein substrate and the proteolytic enzyme and is highly reproducible. Several common proteases have been used including chymotrypsin, Staphylococcus aureus protease, and papain.'},\n",
       " 'filled': True,\n",
       " 'author_pub_id': 'v811KJoAAAAJ:u5HHmVD_uO8C',\n",
       " 'num_citations': 6122,\n",
       " 'pub_url': 'https://www.sciencedirect.com/science/article/pii/S0021925819752120',\n",
       " 'cites_id': '15094942137607114119',\n",
       " 'citedby_url': '/scholar?cites=15094942137607114119',\n",
       " 'url_related_articles': '/scholar?oi=bibs&hl=en&q=related:h80l0eUBfNEJ:scholar.google.com/',\n",
       " 'cites_per_year': {1982: 390,\n",
       "  1983: 448,\n",
       "  1984: 393,\n",
       "  1985: 410,\n",
       "  1986: 379,\n",
       "  1987: 344,\n",
       "  1988: 331,\n",
       "  1989: 300,\n",
       "  1990: 257,\n",
       "  1991: 251,\n",
       "  1992: 199,\n",
       "  1993: 147,\n",
       "  1994: 161,\n",
       "  1995: 128,\n",
       "  1996: 112,\n",
       "  1997: 99,\n",
       "  1998: 87,\n",
       "  1999: 76,\n",
       "  2000: 52,\n",
       "  2001: 50,\n",
       "  2002: 51,\n",
       "  2003: 48,\n",
       "  2004: 44,\n",
       "  2005: 45,\n",
       "  2006: 31,\n",
       "  2007: 42,\n",
       "  2008: 37,\n",
       "  2009: 48,\n",
       "  2010: 20,\n",
       "  2011: 21,\n",
       "  2012: 26,\n",
       "  2013: 25,\n",
       "  2014: 26,\n",
       "  2015: 22,\n",
       "  2016: 19,\n",
       "  2017: 26,\n",
       "  2018: 26,\n",
       "  2019: 28,\n",
       "  2020: 16,\n",
       "  2021: 4},\n",
       " 'eprint_url': 'https://www.sciencedirect.com/science/article/pii/S0021925819752120/pdf?md5=59cad495b6a8b0a9b93378901896900e&pid=1-s2.0-S0021925819752120-main.pdf'}"
      ]
     },
     "execution_count": 47,
     "metadata": {},
     "output_type": "execute_result"
    }
   ],
   "source": [
    "pub"
   ]
  },
  {
   "cell_type": "code",
   "execution_count": 33,
   "id": "sunset-abraham",
   "metadata": {},
   "outputs": [],
   "source": [
    "import pymed"
   ]
  },
  {
   "cell_type": "code",
   "execution_count": 53,
   "id": "uniform-patent",
   "metadata": {},
   "outputs": [],
   "source": [
    "from pymed import PubMed\n",
    "pubmed = PubMed(tool=\"MyTool\", email=\"my@email.address\")\n",
    "results = pubmed.query(\"Peptide mapping by limited proteolysis in sodium dodecyl sulfate and analysis by gel electrophoresis.[Title]\", max_results=1)"
   ]
  },
  {
   "cell_type": "code",
   "execution_count": 54,
   "id": "perfect-fitting",
   "metadata": {},
   "outputs": [],
   "source": [
    "x = next(results)"
   ]
  },
  {
   "cell_type": "code",
   "execution_count": 55,
   "id": "featured-opportunity",
   "metadata": {},
   "outputs": [
    {
     "data": {
      "text/plain": [
       "[]"
      ]
     },
     "execution_count": 55,
     "metadata": {},
     "output_type": "execute_result"
    }
   ],
   "source": [
    "x.toDict()['keywords']"
   ]
  },
  {
   "cell_type": "code",
   "execution_count": 56,
   "id": "agreed-horizon",
   "metadata": {},
   "outputs": [
    {
     "data": {
      "text/plain": [
       "{'pubmed_id': '6477572',\n",
       " 'title': 'Two-dimensional peptide mapping by polyacrylamide-gel electrophoresis with limited proteolysis in SDS.',\n",
       " 'abstract': 'The peptide mapping method described by Cleveland, et al. (1) was improved to a two-dimensional analysis applicable to minute amounts (less than 0.5 microgram) of proteins. Radioiodinated proteins for analysis were purified by electrophoretic elution of the proteins from polyacrylamide gels into buffer containing 0.1% sodium dodecyl sulfate. The proteins were digested enzymatically in the presence of 0.1% sodium dodecyl sulfate and an excess of nonlabeled bovine serum albumin (0.2 mg/ml) relative to labeled substrate in order to attain reproducibility by maintaining a consistent substrate concentration among different samples. The peptides of these limited proteolytic products were resolved by two-dimensional polyacrylamide gel electrophoresis (isoelectric focusing followed by SDS-gels). The resulting 2D-peptide maps of murine and bovine albumin and a murine lymphocyte membrane protein, Tp100, showed excellent resolution and reproducibility.',\n",
       " 'keywords': [],\n",
       " 'journal': 'Biochemical and biophysical research communications',\n",
       " 'publication_date': datetime.date(1984, 8, 16),\n",
       " 'authors': [{'lastname': 'Takeda',\n",
       "   'firstname': 'A',\n",
       "   'initials': 'A',\n",
       "   'affiliation': None},\n",
       "  {'lastname': 'Cone',\n",
       "   'firstname': 'R E',\n",
       "   'initials': 'RE',\n",
       "   'affiliation': None}],\n",
       " 'methods': None,\n",
       " 'conclusions': None,\n",
       " 'results': None,\n",
       " 'copyrights': None,\n",
       " 'doi': '10.1016/0006-291x(84)91180-x',\n",
       " 'xml': <Element 'PubmedArticle' at 0x7fe0a4ec9cc0>}"
      ]
     },
     "execution_count": 56,
     "metadata": {},
     "output_type": "execute_result"
    }
   ],
   "source": [
    "x.toDict()"
   ]
  },
  {
   "cell_type": "code",
   "execution_count": null,
   "id": "opening-estate",
   "metadata": {},
   "outputs": [],
   "source": []
  }
 ],
 "metadata": {
  "kernelspec": {
   "display_name": "Python 3",
   "language": "python",
   "name": "python3"
  },
  "language_info": {
   "codemirror_mode": {
    "name": "ipython",
    "version": 3
   },
   "file_extension": ".py",
   "mimetype": "text/x-python",
   "name": "python",
   "nbconvert_exporter": "python",
   "pygments_lexer": "ipython3",
   "version": "3.8.0"
  }
 },
 "nbformat": 4,
 "nbformat_minor": 5
}
